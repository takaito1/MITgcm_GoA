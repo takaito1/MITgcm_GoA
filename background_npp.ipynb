{
 "cells": [
  {
   "cell_type": "markdown",
   "id": "a1166210-54ba-48ee-8e50-37e702faaff4",
   "metadata": {},
   "source": [
    "## Calculate the background NPP"
   ]
  },
  {
   "cell_type": "code",
   "execution_count": null,
   "id": "856b029b-ff65-432d-ba9b-bb3bbd3bcd61",
   "metadata": {},
   "outputs": [],
   "source": [
    "# --------------------------------------------------------\n",
    "# import necessary packages\n",
    "# --------------------------------------------------------\n",
    "from matplotlib import pyplot as plt\n",
    "import pandas as pd\n",
    "from py_eddy_tracker import data\n",
    "from py_eddy_tracker.dataset.grid import RegularGridDataset\n",
    "import xarray as xr\n",
    "from datetime import datetime\n",
    "import numpy as np\n",
    "from netCDF4 import Dataset\n",
    "import warnings\n",
    "warnings.filterwarnings('ignore')"
   ]
  },
  {
   "cell_type": "code",
   "execution_count": null,
   "id": "dcb641e7-d01d-445a-b69a-3d93f09b365e",
   "metadata": {},
   "outputs": [],
   "source": [
    "# separation distance between coastal and non-coastal domain\n",
    "d_coast = 700. \n",
    "# month of analysis, March to September\n",
    "mon = [1,2,3,4,5,6,7,8,9,10,11,12]"
   ]
  },
  {
   "cell_type": "code",
   "execution_count": null,
   "id": "8b07a921-d49d-4106-b124-2ef0e4a39f91",
   "metadata": {},
   "outputs": [],
   "source": [
    "fn = 'distance_from_nearest_land.nc'\n",
    "dm=xr.open_dataset(fn)"
   ]
  },
  {
   "cell_type": "code",
   "execution_count": null,
   "id": "de624b55-153f-4390-9da3-63a3dbd623ec",
   "metadata": {},
   "outputs": [],
   "source": [
    "# --------------------------------------------------------\n",
    "# select date and domain of the NPP data\n",
    "# display the analysis domain\n",
    "# --------------------------------------------------------\n",
    "ds1=xr.open_dataset('~/project36/obs/npp_CbPM-MODIS_8day_GOA.nc')"
   ]
  },
  {
   "cell_type": "code",
   "execution_count": null,
   "id": "477b8d57-f461-4089-b446-222d836ad1e0",
   "metadata": {},
   "outputs": [],
   "source": [
    "# calculate monthly mean climatology of NPP\n",
    "npp_clim = ds1.npp.groupby('time.month').mean('time')\n",
    "ds2=npp_clim.to_dataset()"
   ]
  },
  {
   "cell_type": "code",
   "execution_count": null,
   "id": "2fb82486-f521-4271-959b-dd492cd45a5c",
   "metadata": {},
   "outputs": [],
   "source": [
    "# display the climatology\n",
    "ds2.npp.plot(x=\"lon\", y=\"lat\", col=\"month\", col_wrap=3, robust=True)\n",
    "x=ds2.lon.to_numpy()\n",
    "y=ds2.lat.to_numpy()"
   ]
  },
  {
   "cell_type": "code",
   "execution_count": null,
   "id": "d1eb0bf3-c010-4876-9579-319d7b71258a",
   "metadata": {},
   "outputs": [],
   "source": [
    "# make the distance field on the same grid as the NPP climatology\n",
    "d_remap = dm.distance.interp(lon=x+360,lat=y).to_numpy()\n",
    "mask_coastal = np.where(d_remap <= 700,1,0)\n",
    "mask_noncoastal = np.where(d_remap > 700,1,0)\n",
    "#\n",
    "d_coastal = xr.DataArray(data=mask_coastal,name='mask_coastal',dims=['lat','lon'],coords={'lat':y,'lon':x})\n",
    "d_noncoastal = xr.DataArray(data=mask_noncoastal,name='mask_noncoastal',dims=['lat','lon'],coords={'lat':y,'lon':x})"
   ]
  },
  {
   "cell_type": "code",
   "execution_count": null,
   "id": "eb23e452-f2d5-4c5a-b3e0-a856d9688388",
   "metadata": {},
   "outputs": [],
   "source": [
    "# weight NPP by the coastal / non-coastal mask and take domain average\n",
    "npp_coastal = ds2.npp.weighted(d_coastal).mean('lat').mean('lon')\n",
    "npp_noncoastal = ds2.npp.weighted(d_noncoastal).mean('lat').mean('lon')"
   ]
  },
  {
   "cell_type": "code",
   "execution_count": null,
   "id": "d2349816-3026-41ac-95ef-a2aea1f24975",
   "metadata": {},
   "outputs": [],
   "source": [
    "plt.plot(mon,npp_coastal,'o-',label='coastal')\n",
    "plt.plot(mon,npp_noncoastal,'v-',label='non-coastal')\n",
    "plt.legend()\n",
    "plt.ylabel('NPP (2003-2020), mgC/m2/day')\n",
    "plt.title('CbPM, monthly climatology')\n",
    "#\n",
    "# write out a table\n",
    "df = pd.DataFrame([npp_coastal.to_numpy(),npp_noncoastal.to_numpy()],columns=mon,index=['Coastal NPP','Non-Coastal NPP'])\n",
    "df.to_csv('background_npp.csv')"
   ]
  },
  {
   "cell_type": "code",
   "execution_count": null,
   "id": "de2462fa-48d3-4694-b019-144fc295194e",
   "metadata": {},
   "outputs": [],
   "source": [
    "# calculate the area element\n",
    "xx,yy=np.meshgrid(x,y)\n",
    "R = 6.37e6\n",
    "dx = 0.16667/180*np.pi\n",
    "dy = 0.16667/180*np.pi\n",
    "cosy = np.cos(yy/180*np.pi)\n",
    "da = (R*dx*cosy)*(R*dy)"
   ]
  },
  {
   "cell_type": "code",
   "execution_count": null,
   "id": "3366628a-0f37-47f9-a5fd-d0d84f7828f5",
   "metadata": {},
   "outputs": [],
   "source": [
    "# calculate the coastal area in m^2\n",
    "tmp = d_coastal.to_numpy()*da\n",
    "area_coastal = np.sum(tmp.flatten())\n",
    "#\n",
    "tmp = d_noncoastal.to_numpy()*da\n",
    "area_noncoastal = np.sum(tmp.flatten())\n",
    "#\n",
    "print(f'coastal area is {area_coastal:.3} m2')\n",
    "print(f'non-coastal area is {area_noncoastal:.3} m2')"
   ]
  },
  {
   "cell_type": "code",
   "execution_count": null,
   "id": "2b502120-cbaa-402b-9190-800deaa24464",
   "metadata": {},
   "outputs": [],
   "source": []
  }
 ],
 "metadata": {
  "kernelspec": {
   "display_name": "REU-2023b",
   "language": "python",
   "name": "reu-2023b"
  },
  "language_info": {
   "codemirror_mode": {
    "name": "ipython",
    "version": 3
   },
   "file_extension": ".py",
   "mimetype": "text/x-python",
   "name": "python",
   "nbconvert_exporter": "python",
   "pygments_lexer": "ipython3",
   "version": "3.10.11"
  }
 },
 "nbformat": 4,
 "nbformat_minor": 5
}
